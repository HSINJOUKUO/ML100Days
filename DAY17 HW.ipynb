{
 "cells": [
  {
   "cell_type": "code",
   "execution_count": null,
   "metadata": {},
   "outputs": [],
   "source": [
    "1.在速度較慢的時候，可以先從哪邊開始檢查？\n",
    "#可先用讀取pkl檔開始\n",
    "\n",
    "2、資料過大時應採取什麼方式讓記憶體占用量下降？\n",
    "#將欄位的型態降級,將大資料的整數型態int改成unit減少記憶體正用空間"
   ]
  }
 ],
 "metadata": {
  "kernelspec": {
   "display_name": "Python 3",
   "language": "python",
   "name": "python3"
  },
  "language_info": {
   "codemirror_mode": {
    "name": "ipython",
    "version": 3
   },
   "file_extension": ".py",
   "mimetype": "text/x-python",
   "name": "python",
   "nbconvert_exporter": "python",
   "pygments_lexer": "ipython3",
   "version": "3.8.5"
  }
 },
 "nbformat": 4,
 "nbformat_minor": 4
}
