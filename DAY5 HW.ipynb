{
 "cells": [
  {
   "cell_type": "code",
   "execution_count": 5,
   "metadata": {},
   "outputs": [],
   "source": [
    "import numpy as np"
   ]
  },
  {
   "cell_type": "code",
   "execution_count": 7,
   "metadata": {},
   "outputs": [
    {
     "name": "stdout",
     "output_type": "stream",
     "text": [
      "('英文 平均：', 67.16666666666667, '最大值：', 89, '最小值：', 48, '標準差', 13.433995020924426)\n",
      "('數學 平均：', 66.6, '最大值：', 85.0, '最小值：', 60.0, '標準差', 9.707728879609279)\n",
      "('中文 平均：', 75.33333333333333, '最大值：', 90, '最小值：', 65, '標準差', 8.825468196582484)\n"
     ]
    }
   ],
   "source": [
    "english_score = np.array([55,89,76,65,48,70])\n",
    "math_score = np.array([60,85,60,68,np.nan,60])\n",
    "chinese_score = np.array([65,90,82,72,66,77])\n",
    "#1. 請計算各科成績平均、最大值、最小值、標準差，其中數學缺一筆資料可忽略? \n",
    "#英文\n",
    "E=(\"英文 平均：\", np.mean(english_score),\"最大值：\", np.max(english_score),\"最小值：\", np.min(english_score),\"標準差\", np.std(english_score))\n",
    "#數學，有缺資料就用nanmean,nanmax,nanmin,nanstd\n",
    "M=(\"數學 平均：\", np.nanmean(math_score),\"最大值：\", np.nanmax(math_score),\"最小值：\", np.nanmin(math_score),\"標準差\", np.nanstd(math_score))\n",
    "#國文\n",
    "C=(\"中文 平均：\", np.mean(chinese_score),\"最大值：\", np.max(chinese_score),\"最小值：\", np.min(chinese_score),\"標準差\", np.std(chinese_score))\n",
    "print(E)\n",
    "print(M)\n",
    "print(C)"
   ]
  },
  {
   "cell_type": "code",
   "execution_count": 44,
   "metadata": {},
   "outputs": [
    {
     "name": "stdout",
     "output_type": "stream",
     "text": [
      "('數學 平均：', 64.66666666666667, '最大值：', 85.0, '最小值：', 55.0, '標準差', 9.860132971832694)\n"
     ]
    }
   ],
   "source": [
    "#2. 第五位同學補考數學後成績為55，請計算補考後數學成績平均、最大值、最小值、標準差?\n",
    "math_score[4] = 55\n",
    "M2=(\"數學 平均：\", np.nanmean(math_score),\"最大值：\", np.nanmax(math_score),\"最小值：\", np.nanmin(math_score),\"標準差\", np.nanstd(math_score))\n",
    "print(M2)"
   ]
  },
  {
   "cell_type": "code",
   "execution_count": 61,
   "metadata": {},
   "outputs": [
    {
     "name": "stdout",
     "output_type": "stream",
     "text": [
      "[[1.         0.74056803]\n",
      " [0.74056803 1.        ]]\n",
      "[[1.         0.97792828]\n",
      " [0.97792828 1.        ]]\n",
      "英文\n"
     ]
    }
   ],
   "source": [
    "#3. 用補考後資料找出與國文成績相關係數最高的學科?\n",
    "CM=np.corrcoef(chinese_score,math_score,rowvar=True)\n",
    "print(CM)\n",
    "CE=np.corrcoef(chinese_score,english_score,rowvar=True)\n",
    "print(CE)\n",
    "if CM[0,1]>CE[0,1]: #CM中取第1列第二個跟CE中取第1列第二個比\n",
    "    print(\"數學\")\n",
    "else:\n",
    "    print(\"英文\")"
   ]
  }
 ],
 "metadata": {
  "kernelspec": {
   "display_name": "Python 3",
   "language": "python",
   "name": "python3"
  },
  "language_info": {
   "codemirror_mode": {
    "name": "ipython",
    "version": 3
   },
   "file_extension": ".py",
   "mimetype": "text/x-python",
   "name": "python",
   "nbconvert_exporter": "python",
   "pygments_lexer": "ipython3",
   "version": "3.8.5"
  }
 },
 "nbformat": 4,
 "nbformat_minor": 4
}
