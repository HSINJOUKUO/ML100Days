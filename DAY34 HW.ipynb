{
 "cells": [
  {
   "cell_type": "code",
   "execution_count": null,
   "metadata": {},
   "outputs": [],
   "source": [
    "今天課程中以一個案例，說明資料分析的流程與探索性分析，是否對於課程中一開始的問題，更有想法了？\n",
    "\n",
    "挑選 Mr./Ms. Right\n",
    "顧客下次會買哪些東西？\n",
    "半導體的良率預測？"
   ]
  },
  {
   "cell_type": "code",
   "execution_count": null,
   "metadata": {},
   "outputs": [],
   "source": [
    "Q1：哪一個問題不適合用資料科學解決？\n",
    "ANS：我認為 顧客下次會買哪些東西不適合用資料科學解決"
   ]
  },
  {
   "cell_type": "code",
   "execution_count": null,
   "metadata": {},
   "outputs": [],
   "source": [
    "Q2：以你的角度來分析，為什麼這樣的問題，較不適合用資料來解決？\n",
    "ANS:\n",
    "雖然可以將顧客依性別、年齡層、購買時間等做分類，\n",
    "但很難預測到這位顧客下次會買哪些東西，\n",
    "可能今天想買衛生紙，三天後想買牛奶，這種日常性的東西是很難用準確的用大數據將他分析之後得到答案。\n",
    "但若要分析哪些東西的購買族群在哪倒是可以用資料分析。"
   ]
  }
 ],
 "metadata": {
  "kernelspec": {
   "display_name": "Python 3",
   "language": "python",
   "name": "python3"
  },
  "language_info": {
   "codemirror_mode": {
    "name": "ipython",
    "version": 3
   },
   "file_extension": ".py",
   "mimetype": "text/x-python",
   "name": "python",
   "nbconvert_exporter": "python",
   "pygments_lexer": "ipython3",
   "version": "3.8.5"
  }
 },
 "nbformat": 4,
 "nbformat_minor": 4
}
